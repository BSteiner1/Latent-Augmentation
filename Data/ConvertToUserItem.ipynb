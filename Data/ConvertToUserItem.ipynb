{
 "cells": [
  {
   "cell_type": "code",
   "execution_count": 1,
   "id": "32732f18",
   "metadata": {},
   "outputs": [],
   "source": [
    "import pandas as pd"
   ]
  },
  {
   "cell_type": "code",
   "execution_count": 2,
   "id": "b660d0c1",
   "metadata": {},
   "outputs": [],
   "source": [
    "large_ratings_df = pd.read_csv(\"C:/Users/bbste/Documents/Summer23/MovieLens-RS/Large Data/ratings.csv\")"
   ]
  },
  {
   "cell_type": "code",
   "execution_count": 3,
   "id": "0ac3277c",
   "metadata": {},
   "outputs": [],
   "source": [
    "small_ratings_df = pd.read_csv(\"C:/Users/bbste/Documents/Summer23/MovieLens-RS/Data/ratings.csv\")"
   ]
  },
  {
   "cell_type": "markdown",
   "id": "ad335a5e",
   "metadata": {},
   "source": [
    "### A function to convert to user-item DataFrame"
   ]
  },
  {
   "cell_type": "code",
   "execution_count": 6,
   "id": "a1676049",
   "metadata": {},
   "outputs": [],
   "source": [
    "def convertToUserItem(ratings_df):\n",
    "    \n",
    "    # Calculate the sizes of our data\n",
    "    ncols = ratings_df['movieId'].nunique()\n",
    "    nrows = ratings_df['userId'].nunique()\n",
    "    \n",
    "    # List of movies as the columns\n",
    "    movies = list(ratings_df['movieId'].unique())\n",
    "    \n",
    "    print(movies[0].dtype)\n",
    "    \n",
    "    # Create a blank nrows x ncols dataframe\n",
    "    #df = pd.DataFrame(0, index=[i+1 for i in range(nrows)], columns=movies)\n",
    "    \n",
    "    # Fill in the explicit ratings \n",
    "    #for i in range(len(ratings_df)):\n",
    "     #   df[ratings_df['movieId'][i]][ratings_df['userId'][i]] = ratings_df['rating'][i]\n",
    "    \n",
    "    #return df"
   ]
  },
  {
   "cell_type": "code",
   "execution_count": 7,
   "id": "afc26fce",
   "metadata": {},
   "outputs": [
    {
     "name": "stdout",
     "output_type": "stream",
     "text": [
      "int64\n"
     ]
    }
   ],
   "source": [
    "small_user_item = convertToUserItem(small_ratings_df)"
   ]
  },
  {
   "cell_type": "code",
   "execution_count": 19,
   "id": "c9f558c2",
   "metadata": {},
   "outputs": [],
   "source": [
    "# Export DataFrame to csv\n",
    "small_user_item.to_csv('small_user_item.csv', index=False)"
   ]
  },
  {
   "cell_type": "code",
   "execution_count": null,
   "id": "0594ac31",
   "metadata": {},
   "outputs": [],
   "source": []
  }
 ],
 "metadata": {
  "kernelspec": {
   "display_name": "Python 3 (ipykernel)",
   "language": "python",
   "name": "python3"
  },
  "language_info": {
   "codemirror_mode": {
    "name": "ipython",
    "version": 3
   },
   "file_extension": ".py",
   "mimetype": "text/x-python",
   "name": "python",
   "nbconvert_exporter": "python",
   "pygments_lexer": "ipython3",
   "version": "3.9.16"
  }
 },
 "nbformat": 4,
 "nbformat_minor": 5
}
