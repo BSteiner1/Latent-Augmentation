{
  "nbformat": 4,
  "nbformat_minor": 0,
  "metadata": {
    "colab": {
      "provenance": [],
      "gpuType": "T4",
      "authorship_tag": "ABX9TyNN0eQz/3G+hLvCJeAqgnKZ",
      "include_colab_link": true
    },
    "kernelspec": {
      "name": "python3",
      "display_name": "Python 3"
    },
    "language_info": {
      "name": "python"
    },
    "accelerator": "GPU"
  },
  "cells": [
    {
      "cell_type": "markdown",
      "metadata": {
        "id": "view-in-github",
        "colab_type": "text"
      },
      "source": [
        "<a href=\"https://colab.research.google.com/github/BSteiner1/Latent-Augmentation/blob/main/Notebooks/LatentTests.ipynb\" target=\"_parent\"><img src=\"https://colab.research.google.com/assets/colab-badge.svg\" alt=\"Open In Colab\"/></a>"
      ]
    },
    {
      "cell_type": "markdown",
      "source": [
        "### Import libraries"
      ],
      "metadata": {
        "id": "3lwSQuEyihOD"
      }
    },
    {
      "cell_type": "code",
      "execution_count": 1,
      "metadata": {
        "id": "ad64YaahmJNQ"
      },
      "outputs": [],
      "source": [
        "import pandas as pd\n",
        "import numpy as np\n",
        "from google.colab import drive\n",
        "import torch\n",
        "import torch.nn as nn\n",
        "import torch.optim as optim\n",
        "import torch.utils.data as Data\n",
        "from torch.utils.data import DataLoader, TensorDataset\n",
        "from torch.autograd import Variable\n",
        "import math\n",
        "import torch.nn.functional as F\n",
        "import matplotlib.pyplot as plt\n",
        "from google.colab import files"
      ]
    },
    {
      "cell_type": "markdown",
      "source": [
        "### Read in the `small_user_item` data"
      ],
      "metadata": {
        "id": "AQZ_qVdUit9D"
      }
    },
    {
      "cell_type": "code",
      "source": [
        "!git clone https://github.com/BSteiner1/Latent-Augmentation"
      ],
      "metadata": {
        "colab": {
          "base_uri": "https://localhost:8080/"
        },
        "id": "u7XSPQg62lyO",
        "outputId": "8e647bec-950d-4d3d-fdf8-e3f52fc59c7f"
      },
      "execution_count": 2,
      "outputs": [
        {
          "output_type": "stream",
          "name": "stdout",
          "text": [
            "Cloning into 'Latent-Augmentation'...\n",
            "remote: Enumerating objects: 15, done.\u001b[K\n",
            "remote: Counting objects: 100% (15/15), done.\u001b[K\n",
            "remote: Compressing objects: 100% (11/11), done.\u001b[K\n",
            "remote: Total 15 (delta 2), reused 12 (delta 2), pack-reused 0\u001b[K\n",
            "Receiving objects: 100% (15/15), 865.32 KiB | 4.30 MiB/s, done.\n",
            "Resolving deltas: 100% (2/2), done.\n"
          ]
        }
      ]
    },
    {
      "cell_type": "code",
      "source": [
        "%cd Latent-Augmentation/Data"
      ],
      "metadata": {
        "colab": {
          "base_uri": "https://localhost:8080/"
        },
        "id": "7rsvP1iB2-xM",
        "outputId": "98fdcc4c-9c17-4598-aa7f-5f2d9d3b26f0"
      },
      "execution_count": 3,
      "outputs": [
        {
          "output_type": "stream",
          "name": "stdout",
          "text": [
            "/content/Latent-Augmentation/Data\n"
          ]
        }
      ]
    },
    {
      "cell_type": "code",
      "source": [
        "path = 'small_user_item.csv'"
      ],
      "metadata": {
        "id": "HnXEWnI43EOR"
      },
      "execution_count": 4,
      "outputs": []
    },
    {
      "cell_type": "code",
      "source": [
        "df = pd.read_csv(path)\n",
        "\n",
        "# Convert column headers from string to integer\n",
        "df.columns = df.columns.astype(int)\n",
        "# Sort the DataFrame based on column headers\n",
        "df = df.sort_index(axis=1)\n",
        "\n",
        "num_movies = len(df.columns)"
      ],
      "metadata": {
        "id": "PrYZrr3nmK1n"
      },
      "execution_count": 5,
      "outputs": []
    },
    {
      "cell_type": "markdown",
      "source": [
        "### Split the data into train and test"
      ],
      "metadata": {
        "id": "YYPsms3ii7Id"
      }
    },
    {
      "cell_type": "code",
      "source": [
        "def train_test_split(dataframe, frac):\n",
        "\n",
        "    # get a random sample\n",
        "    test = df.sample(frac=frac, axis=0)\n",
        "\n",
        "    # get everything but the test sample\n",
        "    train = df.drop(index=test.index)\n",
        "\n",
        "    return train, test"
      ],
      "metadata": {
        "id": "MCCud7zwmqEN"
      },
      "execution_count": 6,
      "outputs": []
    },
    {
      "cell_type": "markdown",
      "source": [
        "### Convert the data into a tensor"
      ],
      "metadata": {
        "id": "AnmfvysCjAiD"
      }
    },
    {
      "cell_type": "code",
      "source": [
        "def frameToTensor(data):\n",
        "    # To NumPy array\n",
        "    data = data.values\n",
        "    # To PyTorch tensor\n",
        "    data = torch.tensor(data, dtype=torch.float32)\n",
        "\n",
        "    return data"
      ],
      "metadata": {
        "id": "mvv_7CY8mrWS"
      },
      "execution_count": 7,
      "outputs": []
    },
    {
      "cell_type": "markdown",
      "source": [
        "### Create a Dataloader"
      ],
      "metadata": {
        "id": "t_2IEG9BjEwk"
      }
    },
    {
      "cell_type": "code",
      "source": [
        "def convertToDataloader(tensor_data, batch_size):\n",
        "\n",
        "  train_loader = Data.DataLoader(tensor_data, batch_size=batch_size, shuffle=True)\n",
        "\n",
        "  return train_loader"
      ],
      "metadata": {
        "id": "GXAJtxB3mwqn"
      },
      "execution_count": 8,
      "outputs": []
    },
    {
      "cell_type": "markdown",
      "source": [
        "### A function to calculate model accuracy"
      ],
      "metadata": {
        "id": "Y3HTTqyDjHdM"
      }
    },
    {
      "cell_type": "code",
      "source": [
        "def Evaluation(model, test_data):\n",
        "    model.eval()\n",
        "    total_loss = 0\n",
        "\n",
        "    with torch.no_grad():\n",
        "        for i in range(len(test_data)):\n",
        "            input = test_data[i]\n",
        "            # Output predicted ratings\n",
        "            output = model(input)\n",
        "            # Mask the missing values from the input in the output\n",
        "            output[input == 0] = 0\n",
        "            loss = F.mse_loss(input, output)\n",
        "            total_loss += loss.item()\n",
        "\n",
        "    return total_loss\n"
      ],
      "metadata": {
        "id": "YwTT_dO8nu_W"
      },
      "execution_count": 9,
      "outputs": []
    },
    {
      "cell_type": "markdown",
      "source": [
        "### A function to reset the weights of the network"
      ],
      "metadata": {
        "id": "bNajXUfqjPf3"
      }
    },
    {
      "cell_type": "code",
      "source": [
        "def reset_parameters(module):\n",
        "    if isinstance(module, nn.Linear):\n",
        "        module.reset_parameters()"
      ],
      "metadata": {
        "id": "2QmzYa6Km692"
      },
      "execution_count": 10,
      "outputs": []
    },
    {
      "cell_type": "markdown",
      "source": [
        "### Define the model architecture"
      ],
      "metadata": {
        "id": "qiyTFi8GjM_s"
      }
    },
    {
      "cell_type": "code",
      "source": [
        "latent_space_size = 20"
      ],
      "metadata": {
        "id": "WrRef-Ccc1Yh"
      },
      "execution_count": 11,
      "outputs": []
    },
    {
      "cell_type": "code",
      "source": [
        "layers = [\n",
        "    nn.Linear(num_movies, 200), nn.Dropout(0.2),\n",
        "    nn.Sigmoid(),\n",
        "    nn.Linear(200, 50), nn.Dropout(0.2),\n",
        "    nn.Sigmoid(),\n",
        "    nn.Linear(50, latent_space_size), nn.Dropout(0.2),\n",
        "    nn.Sigmoid(),\n",
        "    nn.Linear(latent_space_size, 50), nn.Dropout(0.2),\n",
        "    nn.Sigmoid(),\n",
        "    nn.Linear(50, 200), nn.Dropout(0.2),\n",
        "    nn.Sigmoid(),\n",
        "    nn.Linear(200, num_movies)\n",
        "]"
      ],
      "metadata": {
        "id": "es9igqcTm9Iz"
      },
      "execution_count": 12,
      "outputs": []
    },
    {
      "cell_type": "code",
      "source": [
        "autoencoder = nn.Sequential(*layers)\n",
        "\n",
        "# Define the optimizer and associate it with the model parameters\n",
        "optimizer = torch.optim.Adam(autoencoder.parameters(), lr=0.001)\n",
        "criterion = nn.MSELoss()"
      ],
      "metadata": {
        "id": "Ao2efLuTJ1A1"
      },
      "execution_count": 13,
      "outputs": []
    },
    {
      "cell_type": "code",
      "source": [
        "# The layer corresponding to the latent space\n",
        "latent_layer = 9"
      ],
      "metadata": {
        "id": "plyxL5pBJ8Dr"
      },
      "execution_count": 14,
      "outputs": []
    },
    {
      "cell_type": "markdown",
      "source": [
        "### Extract the latent features"
      ],
      "metadata": {
        "id": "a2W5oj8yjaLP"
      }
    },
    {
      "cell_type": "code",
      "source": [
        "def getLatentFeatures(data, model, c):\n",
        "    # Set the model to evaluation mode\n",
        "    autoencoder.eval()\n",
        "\n",
        "    # Define the size of the latent features\n",
        "    latent_dim = latent_space_size\n",
        "\n",
        "    # Create an empty tensor to store the latent features\n",
        "    latent_features = torch.empty(len(data), latent_dim)\n",
        "\n",
        "    # Extract the latent features and store in the tensor\n",
        "    # Index 5 gives the FC layer of size 10\n",
        "    for i, input in enumerate(data):\n",
        "      with torch.no_grad():\n",
        "          latent = model[:latent_layer](input)\n",
        "          latent_features[i] = latent.squeeze().detach()\n",
        "\n",
        "    # Subsample a fraction c of the latent features to use\n",
        "    length = latent_features.size(0)\n",
        "    sample_size = int(length*c)\n",
        "    #print(sample_size)\n",
        "    sampled_indices = torch.randperm(length)[:sample_size]\n",
        "    latent_features = latent_features[sampled_indices]\n",
        "\n",
        "    return latent_features"
      ],
      "metadata": {
        "id": "0B9JqlxHsQT6"
      },
      "execution_count": 15,
      "outputs": []
    },
    {
      "cell_type": "markdown",
      "source": [
        "### Add noise to the latent features"
      ],
      "metadata": {
        "id": "uEN9l08pjdmS"
      }
    },
    {
      "cell_type": "code",
      "source": [
        "def addNoise(latent_features, std_dev, frac):\n",
        "\n",
        "  noisy_latent_features = []\n",
        "\n",
        "  shape = (latent_space_size)  # Shape of the desired tensor\n",
        "  fraction_of_zeros = frac  # Fraction of zeros in the tensor\n",
        "\n",
        "  # AddGaussian noise to some of the latent features\n",
        "  for i in range(len(latent_features)):\n",
        "    random_tensor = torch.rand(shape)\n",
        "    random_tensor = (random_tensor >= fraction_of_zeros).int()\n",
        "    noisy_features = latent_features[i] + (random_tensor * torch.rand(shape) * std_dev)\n",
        "    noisy_latent_features.append(noisy_features)\n",
        "\n",
        "  noisy_latent_features = torch.stack(noisy_latent_features)\n",
        "\n",
        "  return noisy_latent_features"
      ],
      "metadata": {
        "id": "52ugItkUsRH2"
      },
      "execution_count": 16,
      "outputs": []
    },
    {
      "cell_type": "markdown",
      "source": [
        "### Decode the noisy latent features"
      ],
      "metadata": {
        "id": "xUNONoTZjiHb"
      }
    },
    {
      "cell_type": "code",
      "source": [
        "def decodeNoisyFeatues(noisy_latent_features):\n",
        "\n",
        "  decoded_noisy_latent_features = []\n",
        "\n",
        "  # Decode the noisy features\n",
        "  with torch.no_grad():\n",
        "    for i in range(noisy_latent_features.shape[0]):\n",
        "        x = noisy_latent_features[i]\n",
        "        decoded = autoencoder[latent_layer:](x)\n",
        "\n",
        "        #random_indices = np.random.choice(9724, 9561, replace=False)\n",
        "        #decoded[random_indices] = 0\n",
        "\n",
        "        decoded_noisy_latent_features.append(decoded)\n",
        "\n",
        "  decoded_noisy_latent_features = torch.stack(decoded_noisy_latent_features)\n",
        "\n",
        "  return decoded_noisy_latent_features"
      ],
      "metadata": {
        "id": "uZ5KM9AmsY9t"
      },
      "execution_count": 17,
      "outputs": []
    },
    {
      "cell_type": "markdown",
      "source": [
        "### Calculate the batch-size required for the augmented dataset"
      ],
      "metadata": {
        "id": "MK8v4SpljnMA"
      }
    },
    {
      "cell_type": "code",
      "source": [
        "def augmentBatchSize(batch_size, c, n):\n",
        "\n",
        "  # Calculate the required augmented batch size\n",
        "  augmented_batch_size = math.ceil(((1+c)*n)/math.ceil(n/batch_size))\n",
        "\n",
        "  return augmented_batch_size"
      ],
      "metadata": {
        "id": "tvjjtfrDY-2v"
      },
      "execution_count": 18,
      "outputs": []
    },
    {
      "cell_type": "markdown",
      "source": [
        "### Training Loop"
      ],
      "metadata": {
        "id": "hRU2HlIUjsQA"
      }
    },
    {
      "cell_type": "code",
      "source": [
        "num_epochs = 50"
      ],
      "metadata": {
        "id": "Jdl7QbVzJ38L"
      },
      "execution_count": 19,
      "outputs": []
    },
    {
      "cell_type": "code",
      "source": [
        "def Loop(autoencoder, train_loader, test_data):\n",
        "\n",
        "  test_loss = []\n",
        "\n",
        "  # Apply reset_parameters to parameterized layers in the model\n",
        "  for layer in autoencoder:\n",
        "      reset_parameters(layer)\n",
        "\n",
        "  # Training the autoencoder\n",
        "  for epoch in range(1, num_epochs + 1):\n",
        "    train_loss = 0\n",
        "    s = 0.\n",
        "\n",
        "    # Iterate over mini-batches\n",
        "    for batch_idx, batch_data in enumerate(train_loader):\n",
        "        inputs = Variable(batch_data)\n",
        "        targets = inputs.clone()\n",
        "\n",
        "        if torch.sum(targets.data > 0) > 0:\n",
        "            outputs = autoencoder(inputs)\n",
        "            targets.requires_grad = False\n",
        "            # Mask missing values\n",
        "            outputs[targets == 0] = 0\n",
        "            loss = criterion(outputs, targets)\n",
        "\n",
        "            # Back propagation step\n",
        "            autoencoder.zero_grad()\n",
        "            loss.backward()\n",
        "            optimizer.step()\n",
        "\n",
        "            # Accumulate the loss for the batch\n",
        "            train_loss += np.sqrt(loss.data) * len(inputs)\n",
        "            s += len(inputs)\n",
        "\n",
        "    # Compute average loss for the epoch\n",
        "    avg_loss = train_loss / s\n",
        "    test_loss.append(Evaluation(autoencoder, test_data))\n",
        "    #print('epoch: ' + str(epoch) + ' loss: ' + str(avg_loss))\n",
        "\n",
        "  return test_loss\n",
        "\n",
        "    #if epoch == 10:\n",
        "  #return Evaluation(autoencoder, test_data)"
      ],
      "metadata": {
        "id": "gZh1qimToGrO"
      },
      "execution_count": 20,
      "outputs": []
    },
    {
      "cell_type": "markdown",
      "source": [
        "### Define some hyperparameters"
      ],
      "metadata": {
        "id": "FVOlsmfWjwG0"
      }
    },
    {
      "cell_type": "code",
      "source": [
        "batch_size = 16\n",
        "# How much to augment the dataset by\n",
        "c = 0.1\n",
        "# Std. Dev. of the noise\n",
        "std_dev = 0.1\n",
        "# Fraction of features to add noise to\n",
        "frac_noisy = 0.5"
      ],
      "metadata": {
        "id": "X7NKObBRDUq5"
      },
      "execution_count": 21,
      "outputs": []
    },
    {
      "cell_type": "markdown",
      "source": [
        "### The entire training process"
      ],
      "metadata": {
        "id": "Ki6E1x4rj0AX"
      }
    },
    {
      "cell_type": "code",
      "source": [
        "scores = []\n",
        "aug_scores = []\n",
        "\n",
        "for i in range(3):\n",
        "\n",
        "  print(i+1)\n",
        "\n",
        "  # Train and test sets\n",
        "  training_df, test_df = train_test_split(df, 0.2)\n",
        "  # A training validation set to measure overfitness\n",
        "  train_val_df = df.sample(len(test_df))\n",
        "\n",
        "  train_data = frameToTensor(training_df)\n",
        "  test_data = frameToTensor(test_df)\n",
        "  train_val_data = frameToTensor(train_val_df)\n",
        "\n",
        "  train_loader = convertToDataloader(train_data, batch_size)\n",
        "\n",
        "  # Train and evaluate autoencoder\n",
        "  score = Loop(autoencoder, train_loader, test_data)\n",
        "  print(\"AE test loss:\", score)\n",
        "  print(\"AE train loss:\", Evaluation(autoencoder, train_val_data))\n",
        "  scores.append(score)\n",
        "\n",
        "  # Data augmentation\n",
        "  n = len(train_data)\n",
        "  # Define data augmentation size\n",
        "  latent_features = getLatentFeatures(train_data, autoencoder, c)\n",
        "  # Add noise to the latent features\n",
        "  noisy_latent_features = addNoise(latent_features, std_dev, frac_noisy)\n",
        "  decoded_noisy_features = decodeNoisyFeatues(noisy_latent_features)\n",
        "  augmented_data = torch.cat((train_data, decoded_noisy_features), dim=0)\n",
        "\n",
        "  augmented_batch_size = augmentBatchSize(batch_size, c, n)\n",
        "  augmented_loader = convertToDataloader(augmented_data, augmented_batch_size)\n",
        "\n",
        "  # Train and evaluate augmented dataset model\n",
        "  aug_score = Loop(autoencoder, augmented_loader, test_data)\n",
        "  print(\"Augmented test loss:\", aug_score)\n",
        "  print(\"Augmented train loss:\", Evaluation(autoencoder, train_val_data))\n",
        "  aug_scores.append(aug_score)\n",
        "\n",
        "\n",
        "\n",
        "print(scores)\n",
        "print(aug_scores)"
      ],
      "metadata": {
        "colab": {
          "base_uri": "https://localhost:8080/"
        },
        "id": "5yoDR788pRrj",
        "outputId": "5c4fdc52-ee76-4f2a-dacd-32dff29daa53"
      },
      "execution_count": 22,
      "outputs": [
        {
          "output_type": "stream",
          "name": "stdout",
          "text": [
            "1\n",
            "AE test loss: [5.713249204563908, 3.384001712198369, 3.107387338881381, 3.027471672568936, 3.0142285104375333, 3.0147388192126527, 3.0216218594578095, 3.031527499493677, 3.0126148173585534, 2.999384701193776, 3.031039803638123, 3.022158423671499, 3.0131120171863586, 3.050003043259494, 3.023394981981255, 3.0219495269702747, 3.0166446523508057, 3.0068583807442337, 2.990899792406708, 2.9997869682265446, 2.9994464113842696, 2.982608424150385, 3.019704288977664, 2.9896771172061563, 3.0022789512295276, 3.0027966756606475, 2.9942440579179674, 2.9980240949662402, 3.010599907953292, 3.0223891477799043, 2.9937187031609938, 2.9948641834780574, 2.993407150148414, 3.00961111264769, 2.9933379809372127, 2.9944779970683157, 3.0010413182899356, 3.0120220934040844, 3.0021339763188735, 2.998498959816061, 3.0050238231197, 3.0013147791614756, 2.991723389015533, 3.0012739570229314, 3.000008361879736, 2.9843559205764905, 2.9839438744820654, 2.9848610141780227, 2.993139282334596, 3.003997922874987]\n",
            "AE train loss: 1.6544852835941128\n",
            "Augmented test loss: [4.813715247437358, 3.146403855527751, 3.0211216033203527, 3.023093645577319, 3.0150132374837995, 3.0231307348585688, 3.0750763738760725, 3.0211078365682624, 3.021492564759683, 3.033046326949261, 3.021333275712095, 3.0459237247123383, 3.0421112605254166, 3.036548451986164, 3.011655372334644, 3.0743067518342286, 2.995379291358404, 3.0253433309844695, 3.0162689203280024, 3.0382739513297565, 3.001712230267003, 3.1121708094142377, 2.9986253673559986, 3.035524829523638, 3.0249041003989987, 3.0321404683054425, 3.0608212123042904, 3.0029588468023576, 3.0837337833363563, 3.039612454304006, 3.0233575550373644, 3.002948705223389, 3.0221868599765003, 3.0015650094137527, 3.031339341425337, 3.096187593706418, 3.010539309354499, 2.999481158913113, 3.011366157908924, 2.998214903578628, 3.03805749269668, 3.0640436708927155, 3.004517972120084, 3.004568759002723, 3.035633922787383, 3.007640914642252, 2.9718375356169418, 3.0019762935116887, 3.007044113241136, 2.9847765415906906]\n",
            "Augmented train loss: 1.8143742186948657\n",
            "2\n",
            "AE test loss: [3.874524391721934, 2.5710169465455692, 2.3379372232884634, 2.2590565378486644, 2.2216920874925563, 2.1946682556153974, 2.1853460343409097, 2.1842148227297002, 2.1802318728296086, 2.1781122149550356, 2.201305709168082, 2.179058662703028, 2.179761939914897, 2.17953180729819, 2.1950866801053053, 2.198251744484878, 2.1943416885624174, 2.178218485045363, 2.2017684467573417, 2.190586577897193, 2.1583854899799917, 2.2170139505324187, 2.1486425880575553, 2.189551040326478, 2.231499322268064, 2.2683592783287168, 2.1832072768593207, 2.16860741036362, 2.15684892515128, 2.1861178479448427, 2.1794999653066043, 2.2181747884169454, 2.1498631961731007, 2.192976590245962, 2.1691271534364205, 2.1832729859743267, 2.1802812480018474, 2.1905473512015305, 2.178826522314921, 2.1793595085619017, 2.1861900284711737, 2.179717406630516, 2.1920165572228143, 2.1874041781411506, 2.186149309622124, 2.1902623217902146, 2.1966382914979476, 2.191800304761273, 2.1879171776236035, 2.182998267817311]\n",
            "AE train loss: 1.2698320696363226\n",
            "Augmented test loss: [2.1948091839440167, 2.2180544688744703, 2.257538987963926, 2.2387365834001685, 2.254017869796371, 2.2846270628942875, 2.1900665236025816, 2.225297181896167, 2.2059289174794685, 2.269921931409044, 2.2377333950353204, 2.1676009650400374, 2.22328198303876, 2.2675937624735525, 2.1947831345751183, 2.148708002481726, 2.161534010563628, 2.2284633976232726, 2.127968058368424, 2.1712272970180493, 2.149453707053908, 2.185009440261638, 2.2265168267913396, 2.307618875289336, 2.2228689693583874, 2.132834865915356, 2.2865356858819723, 2.1688864065072266, 2.1820293647469953, 2.191023444509483, 2.2419095082150307, 2.212111597196781, 2.1746348550950643, 2.200901569915004, 2.169200427160831, 2.202575477771461, 2.269775190143264, 2.2523232021630974, 2.222673275769921, 2.1948378691013204, 2.2940394774923334, 2.177048004261451, 2.2424936587631237, 2.1520456872094655, 2.2240811412702897, 2.1834378862404265, 2.158623192095547, 2.1821859017800307, 2.211645505114575, 2.1659586645982927]\n",
            "Augmented train loss: 1.3210714263550472\n",
            "3\n",
            "AE test loss: [4.025920177111402, 2.6665787708188873, 2.4634098712995183, 2.3971726198506076, 2.3536053225107025, 2.354013463394949, 2.33878432509664, 2.344104411880835, 2.3512268848426174, 2.3481867909431458, 2.32425016790512, 2.3540415656752884, 2.348376787704183, 2.322096410091035, 2.349628964715521, 2.35290299069311, 2.367653403474833, 2.327434679682483, 2.3389410618983675, 2.3469678221590584, 2.319844954792643, 2.348010033267201, 2.3299514920872753, 2.3398054531717207, 2.364636315309326, 2.3555965128471144, 2.3399328747036634, 2.313174638504279, 2.310001656449458, 2.3208460553287296, 2.292334167606896, 2.3108599683910143, 2.334571239291108, 2.3222428084845887, 2.3130127530894242, 2.3220871446246747, 2.3229279171209782, 2.3223950706160394, 2.319188744062558, 2.2996880460414104, 2.3005269926215988, 2.327588115236722, 2.3119798545667436, 2.321075163054047, 2.3126179536338896, 2.326018633058993, 2.3138026795350015, 2.3262641975888982, 2.3220950623217504, 2.323732895485591]\n",
            "AE train loss: 1.3550348162825685\n",
            "Augmented test loss: [2.3677355906984303, 2.45434332601144, 2.3658227431878913, 2.455968816735549, 2.486781932922895, 2.3530631116154836, 2.43458628928056, 2.376351273909677, 2.307979300239822, 2.4313582252216293, 2.366664818924619, 2.338447526708478, 2.3362516193737974, 2.2972794619272463, 2.3662457158498, 2.337708881503204, 2.299137279900606, 2.277720935482648, 2.2855263937381096, 2.2977713364816736, 2.352586389213684, 2.305446720973123, 2.3551815517421346, 2.3767098288226407, 2.3279714151722146, 2.3124865150020923, 2.290222109950264, 2.309552449572948, 2.3121519411652116, 2.312011060930672, 2.3283181138394866, 2.422135252127191, 2.3499329219193896, 2.4331460492830956, 2.3171584379597334, 2.3687772839621175, 2.336250100066536, 2.3306973940634634, 2.329205775546143, 2.322723258359474, 2.346937333466485, 2.341737115129945, 2.417455531700398, 2.3562079600524157, 2.342794999232865, 2.4195754658721853, 2.4249020827846834, 2.3958955699854414, 2.3400227796082618, 2.366225795572973]\n",
            "Augmented train loss: 1.3846278174169129\n",
            "[[5.713249204563908, 3.384001712198369, 3.107387338881381, 3.027471672568936, 3.0142285104375333, 3.0147388192126527, 3.0216218594578095, 3.031527499493677, 3.0126148173585534, 2.999384701193776, 3.031039803638123, 3.022158423671499, 3.0131120171863586, 3.050003043259494, 3.023394981981255, 3.0219495269702747, 3.0166446523508057, 3.0068583807442337, 2.990899792406708, 2.9997869682265446, 2.9994464113842696, 2.982608424150385, 3.019704288977664, 2.9896771172061563, 3.0022789512295276, 3.0027966756606475, 2.9942440579179674, 2.9980240949662402, 3.010599907953292, 3.0223891477799043, 2.9937187031609938, 2.9948641834780574, 2.993407150148414, 3.00961111264769, 2.9933379809372127, 2.9944779970683157, 3.0010413182899356, 3.0120220934040844, 3.0021339763188735, 2.998498959816061, 3.0050238231197, 3.0013147791614756, 2.991723389015533, 3.0012739570229314, 3.000008361879736, 2.9843559205764905, 2.9839438744820654, 2.9848610141780227, 2.993139282334596, 3.003997922874987], [3.874524391721934, 2.5710169465455692, 2.3379372232884634, 2.2590565378486644, 2.2216920874925563, 2.1946682556153974, 2.1853460343409097, 2.1842148227297002, 2.1802318728296086, 2.1781122149550356, 2.201305709168082, 2.179058662703028, 2.179761939914897, 2.17953180729819, 2.1950866801053053, 2.198251744484878, 2.1943416885624174, 2.178218485045363, 2.2017684467573417, 2.190586577897193, 2.1583854899799917, 2.2170139505324187, 2.1486425880575553, 2.189551040326478, 2.231499322268064, 2.2683592783287168, 2.1832072768593207, 2.16860741036362, 2.15684892515128, 2.1861178479448427, 2.1794999653066043, 2.2181747884169454, 2.1498631961731007, 2.192976590245962, 2.1691271534364205, 2.1832729859743267, 2.1802812480018474, 2.1905473512015305, 2.178826522314921, 2.1793595085619017, 2.1861900284711737, 2.179717406630516, 2.1920165572228143, 2.1874041781411506, 2.186149309622124, 2.1902623217902146, 2.1966382914979476, 2.191800304761273, 2.1879171776236035, 2.182998267817311], [4.025920177111402, 2.6665787708188873, 2.4634098712995183, 2.3971726198506076, 2.3536053225107025, 2.354013463394949, 2.33878432509664, 2.344104411880835, 2.3512268848426174, 2.3481867909431458, 2.32425016790512, 2.3540415656752884, 2.348376787704183, 2.322096410091035, 2.349628964715521, 2.35290299069311, 2.367653403474833, 2.327434679682483, 2.3389410618983675, 2.3469678221590584, 2.319844954792643, 2.348010033267201, 2.3299514920872753, 2.3398054531717207, 2.364636315309326, 2.3555965128471144, 2.3399328747036634, 2.313174638504279, 2.310001656449458, 2.3208460553287296, 2.292334167606896, 2.3108599683910143, 2.334571239291108, 2.3222428084845887, 2.3130127530894242, 2.3220871446246747, 2.3229279171209782, 2.3223950706160394, 2.319188744062558, 2.2996880460414104, 2.3005269926215988, 2.327588115236722, 2.3119798545667436, 2.321075163054047, 2.3126179536338896, 2.326018633058993, 2.3138026795350015, 2.3262641975888982, 2.3220950623217504, 2.323732895485591]]\n",
            "[[4.813715247437358, 3.146403855527751, 3.0211216033203527, 3.023093645577319, 3.0150132374837995, 3.0231307348585688, 3.0750763738760725, 3.0211078365682624, 3.021492564759683, 3.033046326949261, 3.021333275712095, 3.0459237247123383, 3.0421112605254166, 3.036548451986164, 3.011655372334644, 3.0743067518342286, 2.995379291358404, 3.0253433309844695, 3.0162689203280024, 3.0382739513297565, 3.001712230267003, 3.1121708094142377, 2.9986253673559986, 3.035524829523638, 3.0249041003989987, 3.0321404683054425, 3.0608212123042904, 3.0029588468023576, 3.0837337833363563, 3.039612454304006, 3.0233575550373644, 3.002948705223389, 3.0221868599765003, 3.0015650094137527, 3.031339341425337, 3.096187593706418, 3.010539309354499, 2.999481158913113, 3.011366157908924, 2.998214903578628, 3.03805749269668, 3.0640436708927155, 3.004517972120084, 3.004568759002723, 3.035633922787383, 3.007640914642252, 2.9718375356169418, 3.0019762935116887, 3.007044113241136, 2.9847765415906906], [2.1948091839440167, 2.2180544688744703, 2.257538987963926, 2.2387365834001685, 2.254017869796371, 2.2846270628942875, 2.1900665236025816, 2.225297181896167, 2.2059289174794685, 2.269921931409044, 2.2377333950353204, 2.1676009650400374, 2.22328198303876, 2.2675937624735525, 2.1947831345751183, 2.148708002481726, 2.161534010563628, 2.2284633976232726, 2.127968058368424, 2.1712272970180493, 2.149453707053908, 2.185009440261638, 2.2265168267913396, 2.307618875289336, 2.2228689693583874, 2.132834865915356, 2.2865356858819723, 2.1688864065072266, 2.1820293647469953, 2.191023444509483, 2.2419095082150307, 2.212111597196781, 2.1746348550950643, 2.200901569915004, 2.169200427160831, 2.202575477771461, 2.269775190143264, 2.2523232021630974, 2.222673275769921, 2.1948378691013204, 2.2940394774923334, 2.177048004261451, 2.2424936587631237, 2.1520456872094655, 2.2240811412702897, 2.1834378862404265, 2.158623192095547, 2.1821859017800307, 2.211645505114575, 2.1659586645982927], [2.3677355906984303, 2.45434332601144, 2.3658227431878913, 2.455968816735549, 2.486781932922895, 2.3530631116154836, 2.43458628928056, 2.376351273909677, 2.307979300239822, 2.4313582252216293, 2.366664818924619, 2.338447526708478, 2.3362516193737974, 2.2972794619272463, 2.3662457158498, 2.337708881503204, 2.299137279900606, 2.277720935482648, 2.2855263937381096, 2.2977713364816736, 2.352586389213684, 2.305446720973123, 2.3551815517421346, 2.3767098288226407, 2.3279714151722146, 2.3124865150020923, 2.290222109950264, 2.309552449572948, 2.3121519411652116, 2.312011060930672, 2.3283181138394866, 2.422135252127191, 2.3499329219193896, 2.4331460492830956, 2.3171584379597334, 2.3687772839621175, 2.336250100066536, 2.3306973940634634, 2.329205775546143, 2.322723258359474, 2.346937333466485, 2.341737115129945, 2.417455531700398, 2.3562079600524157, 2.342794999232865, 2.4195754658721853, 2.4249020827846834, 2.3958955699854414, 2.3400227796082618, 2.366225795572973]]\n"
          ]
        }
      ]
    },
    {
      "cell_type": "markdown",
      "source": [
        "### A plot to visualise the learning process"
      ],
      "metadata": {
        "id": "A7M_pyOxkBgj"
      }
    },
    {
      "cell_type": "code",
      "source": [
        "# Element-wise average of the simulations\n",
        "reg_element_wise_avg = [sum(elements) / 3 for elements in zip(*scores)]\n",
        "aug_element_wise_avg = [sum(elements) / 3 for elements in zip(*aug_scores)]"
      ],
      "metadata": {
        "id": "ZeE4Non1IegB"
      },
      "execution_count": 23,
      "outputs": []
    },
    {
      "cell_type": "code",
      "source": [
        "# Slice the data to only view the start\n",
        "slice_idx = 30"
      ],
      "metadata": {
        "id": "3fmcseSSBTwW"
      },
      "execution_count": 24,
      "outputs": []
    },
    {
      "cell_type": "code",
      "source": [
        "reg_element_wise_avg = reg_element_wise_avg[:slice_idx]\n",
        "aug_element_wise_avg = aug_element_wise_avg[:slice_idx]"
      ],
      "metadata": {
        "id": "F567cUvCBSkm"
      },
      "execution_count": 25,
      "outputs": []
    },
    {
      "cell_type": "code",
      "source": [
        "epochs = [i for i in range(1, slice_idx+1)]"
      ],
      "metadata": {
        "id": "qAXaH1WhJfGd"
      },
      "execution_count": 26,
      "outputs": []
    },
    {
      "cell_type": "code",
      "source": [
        "# Create the line plot with different colors\n",
        "plt.plot(epochs, reg_element_wise_avg, color='blue', label='Regular Autoencoder')\n",
        "plt.plot(epochs, aug_element_wise_avg, color='red', label='Augmented Autoencoder')\n",
        "\n",
        "# Add labels and legend\n",
        "plt.xlabel('Epoch')\n",
        "plt.ylabel('Average Test Loss')\n",
        "plt.legend()\n",
        "\n",
        "plt.savefig('LearningPlot.png')\n",
        "files.download('LearningPlot.png')\n",
        "\n",
        "# Show the plot\n",
        "plt.show()"
      ],
      "metadata": {
        "colab": {
          "base_uri": "https://localhost:8080/",
          "height": 449
        },
        "id": "Q_0BA7tvJL1G",
        "outputId": "49b5d5d4-379c-478b-a3a6-1c46f7cf6ffd"
      },
      "execution_count": 27,
      "outputs": [
        {
          "output_type": "display_data",
          "data": {
            "text/plain": [
              "<IPython.core.display.Javascript object>"
            ],
            "application/javascript": [
              "\n",
              "    async function download(id, filename, size) {\n",
              "      if (!google.colab.kernel.accessAllowed) {\n",
              "        return;\n",
              "      }\n",
              "      const div = document.createElement('div');\n",
              "      const label = document.createElement('label');\n",
              "      label.textContent = `Downloading \"${filename}\": `;\n",
              "      div.appendChild(label);\n",
              "      const progress = document.createElement('progress');\n",
              "      progress.max = size;\n",
              "      div.appendChild(progress);\n",
              "      document.body.appendChild(div);\n",
              "\n",
              "      const buffers = [];\n",
              "      let downloaded = 0;\n",
              "\n",
              "      const channel = await google.colab.kernel.comms.open(id);\n",
              "      // Send a message to notify the kernel that we're ready.\n",
              "      channel.send({})\n",
              "\n",
              "      for await (const message of channel.messages) {\n",
              "        // Send a message to notify the kernel that we're ready.\n",
              "        channel.send({})\n",
              "        if (message.buffers) {\n",
              "          for (const buffer of message.buffers) {\n",
              "            buffers.push(buffer);\n",
              "            downloaded += buffer.byteLength;\n",
              "            progress.value = downloaded;\n",
              "          }\n",
              "        }\n",
              "      }\n",
              "      const blob = new Blob(buffers, {type: 'application/binary'});\n",
              "      const a = document.createElement('a');\n",
              "      a.href = window.URL.createObjectURL(blob);\n",
              "      a.download = filename;\n",
              "      div.appendChild(a);\n",
              "      a.click();\n",
              "      div.remove();\n",
              "    }\n",
              "  "
            ]
          },
          "metadata": {}
        },
        {
          "output_type": "display_data",
          "data": {
            "text/plain": [
              "<IPython.core.display.Javascript object>"
            ],
            "application/javascript": [
              "download(\"download_32bc7e29-7d6e-4035-91eb-e7f256324a3b\", \"LearningPlot.png\", 24936)"
            ]
          },
          "metadata": {}
        },
        {
          "output_type": "display_data",
          "data": {
            "text/plain": [
              "<Figure size 640x480 with 1 Axes>"
            ],
            "image/png": "[encoded data removed]"
          },
          "metadata": {}
        }
      ]
    },
    {
      "cell_type": "markdown",
      "source": [
        "### Compare performance"
      ],
      "metadata": {
        "id": "XcqqpZhCkUX0"
      }
    },
    {
      "cell_type": "code",
      "source": [
        "avg_reg_last_entry = sum(sublist[-1] for sublist in scores) / len(scores)\n",
        "print(avg_reg_last_entry)"
      ],
      "metadata": {
        "colab": {
          "base_uri": "https://localhost:8080/"
        },
        "id": "pzUluRgL6lZw",
        "outputId": "fb2378c6-86aa-4c62-e65d-85ad5a78f10b"
      },
      "execution_count": 28,
      "outputs": [
        {
          "output_type": "stream",
          "name": "stdout",
          "text": [
            "2.5035763620592966\n"
          ]
        }
      ]
    },
    {
      "cell_type": "code",
      "source": [
        "avg_aug_last_entry = sum(sublist[-1] for sublist in aug_scores) / len(aug_scores)\n",
        "print(avg_aug_last_entry)"
      ],
      "metadata": {
        "id": "7XR4dZp7JL8I",
        "colab": {
          "base_uri": "https://localhost:8080/"
        },
        "outputId": "703c9c40-e129-4b90-d315-ad07f4e7d017"
      },
      "execution_count": 29,
      "outputs": [
        {
          "output_type": "stream",
          "name": "stdout",
          "text": [
            "2.5056536672539855\n"
          ]
        }
      ]
    }
  ]
}